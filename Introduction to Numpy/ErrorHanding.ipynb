{
 "cells": [
  {
   "cell_type": "markdown",
   "metadata": {},
   "source": [
    "## try & except & else & finally"
   ]
  },
  {
   "cell_type": "code",
   "execution_count": null,
   "metadata": {},
   "outputs": [],
   "source": [
    "while True:\n",
    "    try:\n",
    "        myInt = int(input(\"Enter your number: \"))\n",
    "    except:\n",
    "        print(\"Please enter an number.\")\n",
    "        continue\n",
    "    else:\n",
    "        print(\"Thank You!\")\n",
    "        break\n",
    "    finally:\n",
    "        print(\"finally called...\")"
   ]
  }
 ],
 "metadata": {
  "interpreter": {
   "hash": "a5348f1c2744e1a9c766e1c487abf1667a5203ab8572234c6b85c3d4dc60db63"
  },
  "kernelspec": {
   "display_name": "Python 3.10.2 64-bit (windows store)",
   "language": "python",
   "name": "python3"
  },
  "language_info": {
   "codemirror_mode": {
    "name": "ipython",
    "version": 3
   },
   "file_extension": ".py",
   "mimetype": "text/x-python",
   "name": "python",
   "nbconvert_exporter": "python",
   "pygments_lexer": "ipython3",
   "version": "3.10.2"
  },
  "orig_nbformat": 4
 },
 "nbformat": 4,
 "nbformat_minor": 2
}
